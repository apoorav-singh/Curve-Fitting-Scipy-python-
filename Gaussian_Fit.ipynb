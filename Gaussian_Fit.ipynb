{
 "cells": [
  {
   "cell_type": "code",
   "execution_count": 57,
   "id": "16c1bdf0",
   "metadata": {},
   "outputs": [
    {
     "name": "stdout",
     "output_type": "stream",
     "text": [
      "The offset of the gaussian baseline is:\n"
     ]
    },
    {
     "data": {
      "text/latex": [
       "$\\displaystyle 1.656 \\times 10^{-7}$"
      ],
      "text/plain": [
       "<IPython.core.display.Math object>"
      ]
     },
     "metadata": {},
     "output_type": "display_data"
    },
    {
     "name": "stdout",
     "output_type": "stream",
     "text": [
      "The center of the gaussian fit is\n"
     ]
    },
    {
     "data": {
      "text/latex": [
       "$\\displaystyle 4.614 \\times 10^{9}$"
      ],
      "text/plain": [
       "<IPython.core.display.Math object>"
      ]
     },
     "metadata": {},
     "output_type": "display_data"
    },
    {
     "name": "stdout",
     "output_type": "stream",
     "text": [
      "The sigma of the gaussian fit is\n"
     ]
    },
    {
     "data": {
      "text/latex": [
       "$\\displaystyle 1.587 \\times 10^{6}$"
      ],
      "text/plain": [
       "<IPython.core.display.Math object>"
      ]
     },
     "metadata": {},
     "output_type": "display_data"
    },
    {
     "name": "stdout",
     "output_type": "stream",
     "text": [
      "The maximum intensity of the gaussian fit is\n"
     ]
    },
    {
     "data": {
      "text/latex": [
       "$\\displaystyle 1.353 \\times 10^{-5}$"
      ],
      "text/plain": [
       "<IPython.core.display.Math object>"
      ]
     },
     "metadata": {},
     "output_type": "display_data"
    },
    {
     "name": "stdout",
     "output_type": "stream",
     "text": [
      "The Amplitude of the gaussian fit is\n"
     ]
    },
    {
     "data": {
      "text/latex": [
       "$\\displaystyle 1.337 \\times 10^{-5}$"
      ],
      "text/plain": [
       "<IPython.core.display.Math object>"
      ]
     },
     "metadata": {},
     "output_type": "display_data"
    },
    {
     "name": "stdout",
     "output_type": "stream",
     "text": [
      "The FWHM of the gaussian fit is\n"
     ]
    },
    {
     "data": {
      "text/latex": [
       "$\\displaystyle 3.738 \\times 10^{6}$"
      ],
      "text/plain": [
       "<IPython.core.display.Math object>"
      ]
     },
     "metadata": {},
     "output_type": "display_data"
    },
    {
     "data": {
      "image/png": "[encoded data removed]",
      "text/plain": [
       "<Figure size 432x288 with 1 Axes>"
      ]
     },
     "metadata": {
      "needs_background": "light"
     },
     "output_type": "display_data"
    }
   ],
   "source": [
    "import numpy as np\n",
    "import matplotlib.pyplot as plt\n",
    "from scipy.optimize import curve_fit\n",
    "from math import *\n",
    "import pandas as pd\n",
    "from IPython.display import display, Math\n",
    "\n",
    "# Importing Data\n",
    "df_1 = pd.read_csv('Rf_data_vco.csv')\n",
    "\n",
    "\n",
    "fig = plt.figure()\n",
    "ax1 = fig.add_subplot(111)\n",
    "\n",
    "X = np.array(df_1[\"Frequency [Hz]\"])\n",
    "Y = np.array(df_1[\"Magnitude [W]\"])\n",
    "\n",
    "# print(X, Y)\n",
    "\n",
    "def gauss(x, H, A, x0, sigma):\n",
    "    return H + A * np.exp(-(x - x0) ** 2 / (2 * sigma ** 2))\n",
    "\n",
    "def gauss_fit(x, y):\n",
    "    mean = sum(x * y) / sum(y)\n",
    "    sigma = np.sqrt(sum(y * (x - mean) ** 2) / sum(y))\n",
    "    popt, pcov = curve_fit(gauss, x, y, p0=[min(y), max(y), mean, sigma])\n",
    "    return popt\n",
    "\n",
    "\n",
    "H, A, x0, sigma = gauss_fit(X, Y)\n",
    "FWHM = 2.35482 * sigma\n",
    "\n",
    "def latex_float(f):\n",
    "    float_str = \"{0:.4g}\".format(f)\n",
    "    if \"e\" in float_str:\n",
    "        base, exponent = float_str.split(\"e\")\n",
    "        return r\"${0} \\times 10^{{{1}}}$\".format(base, int(exponent))\n",
    "    else:\n",
    "        return float_str\n",
    "\n",
    "print('The offset of the gaussian baseline is:') \n",
    "display(Math(latex_float(H)))\n",
    "print('The center of the gaussian fit is')\n",
    "display(Math(latex_float(x0)))\n",
    "print('The sigma of the gaussian fit is')\n",
    "display(Math(latex_float(sigma)))\n",
    "print('The maximum intensity of the gaussian fit is')\n",
    "display(Math(latex_float(H + A)))\n",
    "print('The Amplitude of the gaussian fit is')\n",
    "display(Math(latex_float(A)))\n",
    "print('The FWHM of the gaussian fit is')\n",
    "display(Math(latex_float(FWHM)))\n",
    "\n",
    "Z = gauss(X, H, A, x0, sigma)\n",
    "\n",
    "\n",
    "\n",
    "ax1.plot(X,Y, \"r-o\", label=\"RAW\")\n",
    "ax1.plot(X, Z, \"b-o\", label=\"Gaussian Fit\")\n",
    "ax1.set_xlabel(r\"Frequency $(Hz)$\")\n",
    "ax1.set_ylabel(\"Power (W))\")\n",
    "ax1.set_title(\"EOM\")\n",
    "ax1.legend()\n",
    "plt.show()\n",
    "\n",
    "# plt.savefig('books_read.png', bbox_inches=\"tight\",\n",
    "#             pad_inches=0.3, dpi=300)\n",
    "\n",
    "# fwhm = 2*sqrt(2*log(2))*popt[3]\n",
    "\n",
    "# print(\"FWHM =\",fwhm)\n",
    "\n",
    "# print(popt)"
   ]
  },
  {
   "cell_type": "code",
   "execution_count": 23,
   "id": "c57a4531",
   "metadata": {},
   "outputs": [],
   "source": [
    "# [-68.34980802  47.59075111 178.16188001  -7.67131862] Full\n",
    "# H              A           x_0           \\sigma\n",
    "# [-59.9868924   41.68140622 178.16500731   6.12862565] Just the centeral peak\n"
   ]
  },
  {
   "cell_type": "code",
   "execution_count": null,
   "id": "0e7316da",
   "metadata": {},
   "outputs": [],
   "source": []
  }
 ],
 "metadata": {
  "kernelspec": {
   "display_name": "Python 3 (ipykernel)",
   "language": "python",
   "name": "python3"
  },
  "language_info": {
   "codemirror_mode": {
    "name": "ipython",
    "version": 3
   },
   "file_extension": ".py",
   "mimetype": "text/x-python",
   "name": "python",
   "nbconvert_exporter": "python",
   "pygments_lexer": "ipython3",
   "version": "3.9.12"
  }
 },
 "nbformat": 4,
 "nbformat_minor": 5
}
